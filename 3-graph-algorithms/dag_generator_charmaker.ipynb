{
 "cells": [
  {
   "cell_type": "markdown",
   "metadata": {},
   "source": [
    "# DAGUSIA"
   ]
  },
  {
   "cell_type": "code",
   "execution_count": 2,
   "metadata": {},
   "outputs": [],
   "source": [
    "import random\n",
    "import numpy as np\n",
    "TRIALS = 1\n",
    "saturation = 0.3\n",
    "n = [10, 100, 150, 200, 250, 300, 350, 400, 500, 600, 700, 800, 900, 1000]\n",
    "\n",
    "def DAGgenerate(n_ver, trial): \n",
    "    n_edg = int (saturation * 0.5 * n_ver * (n_ver - 1))\n",
    "    if (n_edg < n_ver-1):\n",
    "        n_edg = n_ver-1\n",
    "    \n",
    "    #print(\"EDGES:\"+str(n_edg))\n",
    "    \n",
    "    #tutaj na skosie daje 2 żeby się nie myliło, poprzednio było 1 ale to tylko do pętli (*)\n",
    "    edges = np.zeros((n_ver, n_ver))\n",
    "    for x in range(n_ver):\n",
    "        edges[x][x]=2\n",
    "\n",
    "    f = open(\"DAGdata/DAG\"+str(n_ver)+\"_\"+str(trial)+\".txt\", 'w')\n",
    "\n",
    "    for i in range (1,n_edg+1):\n",
    "        if (i < n_ver ):\n",
    "            a = i\n",
    "            b = random.randint(0,i-1)\n",
    "        else:\n",
    "            a = random.randint(0,n_ver-1)\n",
    "            b = random.randint(0,n_ver-1)\n",
    "            \n",
    "        while (a==b or edges[a][b]>0): # (*) wcześniej było ==0\n",
    "            a = random.randint(0,n_ver-1)\n",
    "            b = random.randint(0,n_ver-1)\n",
    "        \n",
    "        if(a==b):\n",
    "            print(\"!!!!!\")\n",
    "        \n",
    "        if (a < b): # (x, y) x < y \n",
    "            f.write(str(a) + \" \" + str(b) + \"\\n\")\n",
    "            edges[a][b]=1\n",
    "        else:\n",
    "            f.write(str(b) + \" \" + str(a) + \"\\n\")\n",
    "            edges[b][a]=1\n",
    "    f.close()\n",
    "    \n",
    "    #print(edges)\n",
    "\n",
    "for ver in n:\n",
    "    for trial in range (TRIALS):\n",
    "        DAGgenerate (ver, trial)\n",
    "        #print (\"DONE \", ver, trial)"
   ]
  },
  {
   "cell_type": "markdown",
   "metadata": {},
   "source": [
    "# CHART MAKER"
   ]
  },
  {
   "cell_type": "code",
   "execution_count": 38,
   "metadata": {},
   "outputs": [],
   "source": [
    "import matplotlib.pyplot as plt\n",
    "import numpy as np\n",
    "import random\n",
    "saturation = 0.3\n",
    "n = [10, 100, 150, 200, 250, 300, 350, 400, 500, 600, 700, 800, 900, 1000]\n",
    "TRIALS = 10"
   ]
  },
  {
   "cell_type": "code",
   "execution_count": 39,
   "metadata": {},
   "outputs": [],
   "source": [
    "def read_data (filename):\n",
    "    data = []\n",
    "    f = open(filename+\".txt\")\n",
    "    for no in n:\n",
    "        temp = f.readline()\n",
    "        temp = float(temp[temp.find(\" \")+1:temp.find(\"\\n\")])\n",
    "        #print(temp)\n",
    "        data.append(temp)\n",
    "    f.close()\n",
    "    return data;"
   ]
  },
  {
   "cell_type": "code",
   "execution_count": 43,
   "metadata": {},
   "outputs": [
    {
     "name": "stdout",
     "output_type": "stream",
     "text": [
      "[1.000e-06 3.400e-05 3.400e-05 7.700e-05 1.160e-04 1.720e-04 2.210e-04\n",
      " 3.440e-04 5.400e-04 8.160e-04 1.078e-03 1.484e-03 1.897e-03 2.453e-03]\n"
     ]
    }
   ],
   "source": [
    "DATA = []\n",
    "\n",
    "for i in range (TRIALS):\n",
    "    DATA.append(read_data(\"DFSresults_{}\".format(i)))\n",
    "\n",
    "RESULTS = np.mean(DATA, axis=0)\n",
    "RESULTS = RESULTS/100/1000\n",
    "\n",
    "#print(DATA)\n",
    "print(RESULTS)   "
   ]
  },
  {
   "cell_type": "code",
   "execution_count": 44,
   "metadata": {},
   "outputs": [],
   "source": [
    "f = open(\"FINAL.txt\", 'w')\n",
    "\n",
    "for i in range(len(n)):\n",
    "    f.write(str(n[i])+\"\\t\")\n",
    "    f.write(str(round(RESULTS[i], 4))+\"\\t\")\n",
    "    f.write(\"\\n\")\n",
    "f.close()"
   ]
  },
  {
   "cell_type": "code",
   "execution_count": 46,
   "metadata": {},
   "outputs": [
    {
     "data": {
      "text/plain": [
       "<function matplotlib.pyplot.show(close=None, block=None)>"
      ]
     },
     "execution_count": 46,
     "metadata": {},
     "output_type": "execute_result"
    },
    {
     "data": {
      "image/png": "[encoded data removed]",
      "text/plain": [
       "<Figure size 864x576 with 1 Axes>"
      ]
     },
     "metadata": {
      "needs_background": "light"
     },
     "output_type": "display_data"
    }
   ],
   "source": [
    "fig, ax = plt.subplots(figsize = (12,8))\n",
    "#ax.plot(n, RESULTS, label = \"saturation = 30%\") \n",
    "ax.plot(n, RESULTS)  \n",
    "\n",
    "ax.set_xlabel(\"n\")\n",
    "ax.set_ylabel(\"time [s]\")\n",
    "#plt.legend(loc='upper left')\n",
    "plt.grid(True)\n",
    "ax.set_title(\"Topological sorting\")\n",
    "plt.show\n",
    "#plt.savefig(\"chart.svg\")"
   ]
  },
  {
   "cell_type": "code",
   "execution_count": null,
   "metadata": {},
   "outputs": [],
   "source": []
  }
 ],
 "metadata": {
  "kernelspec": {
   "display_name": "Python 3",
   "language": "python",
   "name": "python3"
  },
  "language_info": {
   "codemirror_mode": {
    "name": "ipython",
    "version": 3
   },
   "file_extension": ".py",
   "mimetype": "text/x-python",
   "name": "python",
   "nbconvert_exporter": "python",
   "pygments_lexer": "ipython3",
   "version": "3.8.3"
  }
 },
 "nbformat": 4,
 "nbformat_minor": 4
}
